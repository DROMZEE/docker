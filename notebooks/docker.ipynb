{
 "cells": [
  {
   "cell_type": "markdown",
   "metadata": {},
   "source": [
    "# Docker"
   ]
  },
  {
   "cell_type": "markdown",
   "metadata": {
    "toc": true
   },
   "source": [
    "<h1>Table of Contents<span class=\"tocSkip\"></span></h1>\n",
    "<div class=\"toc\"><ul class=\"toc-item\"><li><span><a href=\"#Sources\" data-toc-modified-id=\"Sources-1\"><span class=\"toc-item-num\">1&nbsp;&nbsp;</span>Sources</a></span></li><li><span><a href=\"#Créer-un-container-à-partir-d’une-image\" data-toc-modified-id=\"Créer-un-container-à-partir-d’une-image-2\"><span class=\"toc-item-num\">2&nbsp;&nbsp;</span>Créer un container à partir d’une image</a></span></li><li><span><a href=\"#Commandes\" data-toc-modified-id=\"Commandes-3\"><span class=\"toc-item-num\">3&nbsp;&nbsp;</span>Commandes</a></span></li><li><span><a href=\"#stockage-persistant\" data-toc-modified-id=\"stockage-persistant-4\"><span class=\"toc-item-num\">4&nbsp;&nbsp;</span>stockage persistant</a></span><ul class=\"toc-item\"><li><span><a href=\"#Ajout-manuel\" data-toc-modified-id=\"Ajout-manuel-4.1\"><span class=\"toc-item-num\">4.1&nbsp;&nbsp;</span>Ajout manuel</a></span></li><li><span><a href=\"#Volume-docker\" data-toc-modified-id=\"Volume-docker-4.2\"><span class=\"toc-item-num\">4.2&nbsp;&nbsp;</span>Volume docker</a></span></li></ul></li><li><span><a href=\"#Les-réseaux\" data-toc-modified-id=\"Les-réseaux-5\"><span class=\"toc-item-num\">5&nbsp;&nbsp;</span>Les réseaux</a></span></li><li><span><a href=\"#Exemples\" data-toc-modified-id=\"Exemples-6\"><span class=\"toc-item-num\">6&nbsp;&nbsp;</span>Exemples</a></span><ul class=\"toc-item\"><li><span><a href=\"#Exo-3\" data-toc-modified-id=\"Exo-3-6.1\"><span class=\"toc-item-num\">6.1&nbsp;&nbsp;</span>Exo 3</a></span></li><li><span><a href=\"#image-nginx-et-container-détaché\" data-toc-modified-id=\"image-nginx-et-container-détaché-6.2\"><span class=\"toc-item-num\">6.2&nbsp;&nbsp;</span>image nginx et container détaché</a></span></li></ul></li></ul></div>"
   ]
  },
  {
   "cell_type": "markdown",
   "metadata": {},
   "source": [
    "## Sources"
   ]
  },
  {
   "cell_type": "code",
   "execution_count": null,
   "metadata": {},
   "outputs": [],
   "source": [
    "https://hub.docker.com/_/python"
   ]
  },
  {
   "cell_type": "markdown",
   "metadata": {},
   "source": [
    "## Créer un container à partir d’une image"
   ]
  },
  {
   "cell_type": "markdown",
   "metadata": {},
   "source": [
    "```\n",
    "docker run [options…] <image>[:tag] [command]\n",
    "```"
   ]
  },
  {
   "cell_type": "markdown",
   "metadata": {},
   "source": [
    "```\n",
    "docker run -it ubuntu:18.03 bash\n",
    "```"
   ]
  },
  {
   "cell_type": "markdown",
   "metadata": {},
   "source": [
    "```powershell\n",
    "docker pull python\n",
    "docker run -it python\n",
    "print(\"Hello, world!\")\n",
    "exit\n",
    "```"
   ]
  },
  {
   "cell_type": "code",
   "execution_count": null,
   "metadata": {},
   "outputs": [],
   "source": [
    "docker run -it python:3"
   ]
  },
  {
   "cell_type": "markdown",
   "metadata": {},
   "source": [
    "## Commandes"
   ]
  },
  {
   "cell_type": "markdown",
   "metadata": {},
   "source": [
    "```~docker images```\n",
    "\n",
    "Lister les containers\n",
    "\n",
    "docker ps\n",
    "docker ps [-a]"
   ]
  },
  {
   "cell_type": "markdown",
   "metadata": {},
   "source": [
    "* Stopper un container\n",
    "\n",
    "docker stop <id|name>\n",
    "\n",
    "* Redémarrer un container stoppé\n",
    "\n",
    "docker start <id|name>\n",
    "\n",
    "* Supprimer un container\n",
    "\n",
    "docker rm <id|name>"
   ]
  },
  {
   "cell_type": "markdown",
   "metadata": {},
   "source": [
    "* Executer une commande dans un container en cours d’exécution"
   ]
  },
  {
   "cell_type": "markdown",
   "metadata": {},
   "source": [
    "docker exec -it mysql-test mysql -u root -p"
   ]
  },
  {
   "cell_type": "markdown",
   "metadata": {},
   "source": [
    "## stockage persistant\n",
    "\n",
    " * les volumes de données\n",
    " * les  Docker Data Volume Containers"
   ]
  },
  {
   "cell_type": "markdown",
   "metadata": {},
   "source": [
    "Par défaut, toutes les données sont stockée dans le container"
   ]
  },
  {
   "cell_type": "markdown",
   "metadata": {},
   "source": [
    "stocker les données dans un répertoire spécifique du serveur hôte Docker plutôt que dans le système de fichiers par défaut du conteneur.\n",
    "* rendre les données indépendantes de la vie du conteneur\n",
    "* partager ces données entre plusieurs conteneurs"
   ]
  },
  {
   "cell_type": "markdown",
   "metadata": {},
   "source": [
    "### Ajout manuel"
   ]
  },
  {
   "cell_type": "code",
   "execution_count": null,
   "metadata": {},
   "outputs": [],
   "source": [
    "docker run -it -d -v /src python /bin/sleep infinity"
   ]
  },
  {
   "cell_type": "code",
   "execution_count": null,
   "metadata": {},
   "outputs": [],
   "source": [
    "docker run [options] image[:tag] [commande à exectuer au demarrage du container]"
   ]
  },
  {
   "cell_type": "markdown",
   "metadata": {},
   "source": [
    "### Volume docker"
   ]
  },
  {
   "cell_type": "markdown",
   "metadata": {},
   "source": [
    "```powershell\n",
    "Docker volume create"
   ]
  },
  {
   "cell_type": "code",
   "execution_count": null,
   "metadata": {},
   "outputs": [],
   "source": [
    "docker run -d -P --name web -v /webapp training/webapp python app.py"
   ]
  },
  {
   "cell_type": "code",
   "execution_count": null,
   "metadata": {},
   "outputs": [],
   "source": [
    "docker run -d -P --name vol_src -v /src python/src python hello.py"
   ]
  },
  {
   "cell_type": "code",
   "execution_count": null,
   "metadata": {},
   "outputs": [],
   "source": []
  },
  {
   "cell_type": "markdown",
   "metadata": {},
   "source": [
    "## Les réseaux"
   ]
  },
  {
   "cell_type": "code",
   "execution_count": null,
   "metadata": {},
   "outputs": [],
   "source": []
  },
  {
   "cell_type": "code",
   "execution_count": null,
   "metadata": {},
   "outputs": [],
   "source": []
  },
  {
   "cell_type": "markdown",
   "metadata": {},
   "source": [
    "## Exemples"
   ]
  },
  {
   "cell_type": "markdown",
   "metadata": {},
   "source": [
    "### Exo 3 "
   ]
  },
  {
   "cell_type": "code",
   "execution_count": null,
   "metadata": {},
   "outputs": [],
   "source": [
    "hello.py"
   ]
  },
  {
   "cell_type": "markdown",
   "metadata": {},
   "source": [
    "* creation fichier Dockerfile"
   ]
  },
  {
   "cell_type": "code",
   "execution_count": null,
   "metadata": {},
   "outputs": [],
   "source": [
    "FROM python:3.7-alpine\n",
    "\n",
    "COPY /application/app.py /src/\n",
    "\n",
    "CMD [ \"python\", \"/src/app.py\"]"
   ]
  },
  {
   "cell_type": "markdown",
   "metadata": {},
   "source": [
    "* lancer en ligne de commande"
   ]
  },
  {
   "cell_type": "code",
   "execution_count": null,
   "metadata": {},
   "outputs": [],
   "source": [
    "docker build -t hello ."
   ]
  },
  {
   "cell_type": "code",
   "execution_count": null,
   "metadata": {},
   "outputs": [],
   "source": [
    "docker run hello"
   ]
  },
  {
   "cell_type": "markdown",
   "metadata": {},
   "source": [
    "le message est affiché\n"
   ]
  },
  {
   "cell_type": "markdown",
   "metadata": {},
   "source": [
    "### image nginx et container détaché"
   ]
  },
  {
   "cell_type": "markdown",
   "metadata": {},
   "source": [
    "Un Hello World d’une image nginx en utilisant un container détaché à durée de vie longue"
   ]
  },
  {
   "cell_type": "markdown",
   "metadata": {},
   "source": [
    "ngnix = serveur http"
   ]
  },
  {
   "cell_type": "code",
   "execution_count": null,
   "metadata": {},
   "outputs": [],
   "source": [
    "docker pull nginx:alpine"
   ]
  },
  {
   "cell_type": "code",
   "execution_count": null,
   "metadata": {},
   "outputs": [],
   "source": []
  },
  {
   "cell_type": "code",
   "execution_count": null,
   "metadata": {},
   "outputs": [],
   "source": [
    "FROM nginx:alpine\n",
    "COPY index.html /usr/share/nginx/html/index.html"
   ]
  },
  {
   "cell_type": "code",
   "execution_count": null,
   "metadata": {},
   "outputs": [],
   "source": [
    "docker build -t hello-nginx ."
   ]
  },
  {
   "cell_type": "code",
   "execution_count": null,
   "metadata": {},
   "outputs": [],
   "source": [
    "docker run --rm -it -p 8080:80 hello-nginx"
   ]
  },
  {
   "cell_type": "code",
   "execution_count": null,
   "metadata": {},
   "outputs": [],
   "source": [
    "localhost:8080"
   ]
  }
 ],
 "metadata": {
  "file_extension": ".py",
  "kernelspec": {
   "display_name": "Python 3.7.5 64-bit ('base': conda)",
   "language": "python",
   "name": "python37564bitbaseconda5cf513bda9874fe0b442590ab116cc1a"
  },
  "language_info": {
   "codemirror_mode": {
    "name": "ipython",
    "version": 3
   },
   "file_extension": ".py",
   "mimetype": "text/x-python",
   "name": "python",
   "nbconvert_exporter": "python",
   "pygments_lexer": "ipython3",
   "version": "3.7.7"
  },
  "mimetype": "text/x-python",
  "name": "python",
  "npconvert_exporter": "python",
  "pygments_lexer": "ipython3",
  "toc": {
   "base_numbering": 1,
   "nav_menu": {},
   "number_sections": true,
   "sideBar": true,
   "skip_h1_title": true,
   "title_cell": "Table of Contents",
   "title_sidebar": "Contents",
   "toc_cell": true,
   "toc_position": {},
   "toc_section_display": true,
   "toc_window_display": true
  },
  "version": 3
 },
 "nbformat": 4,
 "nbformat_minor": 2
}
